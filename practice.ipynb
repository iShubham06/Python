{
 "cells": [
  {
   "cell_type": "code",
   "execution_count": 1,
   "id": "e3054509",
   "metadata": {},
   "outputs": [
    {
     "name": "stdout",
     "output_type": "stream",
     "text": [
      "The sum of the two number is:  3\n"
     ]
    }
   ],
   "source": [
    "n1 = int(input(\"n1: \"))\n",
    "n2 = int(input(\"n2: \"))\n",
    "print(\"The sum of the two number is: \", n1+n2)"
   ]
  },
  {
   "cell_type": "code",
   "execution_count": 2,
   "id": "fbbb3d16",
   "metadata": {},
   "outputs": [
    {
     "name": "stdout",
     "output_type": "stream",
     "text": [
      "a:  2\n",
      "b:  5\n"
     ]
    }
   ],
   "source": [
    "a = 5\n",
    "b = 2\n",
    "\n",
    "var = a\n",
    "a = b\n",
    "b = var\n",
    "\n",
    "print(\"a: \",a)\n",
    "print(\"b: \",b)"
   ]
  },
  {
   "cell_type": "code",
   "execution_count": 3,
   "id": "d9077a6c",
   "metadata": {},
   "outputs": [
    {
     "name": "stdout",
     "output_type": "stream",
     "text": [
      "30.0°C is 86.00°F\n"
     ]
    }
   ],
   "source": [
    "# Convert Celsius to Fahrenheit without using if/elif/else\n",
    "def celsius_to_fahrenheit(celsius):\n",
    "    return (celsius * 9/5) + 32\n",
    "\n",
    "# Get user input\n",
    "celsius = float(input(\"Enter temperature in Celsius: \"))\n",
    "\n",
    "# Perform conversion\n",
    "fahrenheit = celsius_to_fahrenheit(celsius)\n",
    "\n",
    "# Display result\n",
    "print(f\"{celsius}°C is {fahrenheit:.2f}°F\")\n"
   ]
  },
  {
   "cell_type": "code",
   "execution_count": 7,
   "id": "90bd70e6",
   "metadata": {},
   "outputs": [
    {
     "name": "stdout",
     "output_type": "stream",
     "text": [
      "Negative\n",
      "not needed\n"
     ]
    }
   ],
   "source": [
    "n = -20\n",
    "print(\"Positive\" if n > 0 else \"Negative\")\n",
    "print(\"Zero\" if n == 0 else \"not needed\")"
   ]
  },
  {
   "cell_type": "code",
   "execution_count": 8,
   "id": "b5a70fb7",
   "metadata": {},
   "outputs": [
    {
     "name": "stdout",
     "output_type": "stream",
     "text": [
      "Odd\n"
     ]
    }
   ],
   "source": [
    "n = 69\n",
    "print(\"Even\" if n%2 == 0 else \"Odd\")"
   ]
  },
  {
   "cell_type": "code",
   "execution_count": 11,
   "id": "3a970b35",
   "metadata": {},
   "outputs": [
    {
     "name": "stdout",
     "output_type": "stream",
     "text": [
      "{14}\n"
     ]
    }
   ],
   "source": [
    "a = 9\n",
    "b = 14\n",
    "c = 3\n",
    "\n",
    "largest = max(a, b, c)\n",
    "print({largest})\n"
   ]
  },
  {
   "cell_type": "code",
   "execution_count": 16,
   "id": "09717740",
   "metadata": {},
   "outputs": [
    {
     "name": "stdout",
     "output_type": "stream",
     "text": [
      "1\n",
      "2\n",
      "3\n",
      "4\n",
      "5\n",
      "6\n",
      "7\n",
      "8\n",
      "9\n",
      "10\n"
     ]
    }
   ],
   "source": [
    "for i in range(1, 11):\n",
    "    print(i)"
   ]
  },
  {
   "cell_type": "code",
   "execution_count": 19,
   "id": "6292d6d8",
   "metadata": {},
   "outputs": [
    {
     "name": "stdout",
     "output_type": "stream",
     "text": [
      "10 X 1: 10\n",
      "10 X 2: 20\n",
      "10 X 3: 30\n",
      "10 X 4: 40\n",
      "10 X 5: 50\n",
      "10 X 6: 60\n",
      "10 X 7: 70\n",
      "10 X 8: 80\n",
      "10 X 9: 90\n",
      "10 X 10: 100\n"
     ]
    }
   ],
   "source": [
    "n = 10\n",
    "for i in range(1, 11):\n",
    "    print(f\"{n} X {i}: {n*i}\")"
   ]
  },
  {
   "cell_type": "code",
   "execution_count": 21,
   "id": "a059e617",
   "metadata": {},
   "outputs": [
    {
     "name": "stdout",
     "output_type": "stream",
     "text": [
      "The factorial of 50 is 30414093201713378043612608166064768844377641568960512000000000000\n"
     ]
    }
   ],
   "source": [
    "# Get input from the user\n",
    "num = int(input(\"Enter a number to calculate its factorial: \"))\n",
    "\n",
    "# Initialize variables\n",
    "factorial = 1\n",
    "i = 1\n",
    "\n",
    "# Calculate factorial using while loop\n",
    "while i <= num:\n",
    "    factorial *= i\n",
    "    i += 1\n",
    "\n",
    "# Display the result\n",
    "print(f\"The factorial of {num} is {factorial}\")\n",
    "\n"
   ]
  },
  {
   "cell_type": "code",
   "execution_count": null,
   "id": "4fba0c94",
   "metadata": {},
   "outputs": [],
   "source": []
  },
  {
   "cell_type": "code",
   "execution_count": 1,
   "id": "cf14caa3",
   "metadata": {},
   "outputs": [
    {
     "name": "stdout",
     "output_type": "stream",
     "text": [
      "0 1 1 2 3 5 8 13 21 34 55 89 144 233 377 "
     ]
    }
   ],
   "source": [
    "def fibonacci_series():\n",
    "    a, b = 0, 1\n",
    "    count = 0\n",
    "    \n",
    "    while count < n:\n",
    "        print(a, end =' ')\n",
    "        a, b = b, a+b\n",
    "        count += 1\n",
    "    \n",
    "n = 15\n",
    "fibonacci_series()"
   ]
  },
  {
   "cell_type": "code",
   "execution_count": 4,
   "id": "61c3155b",
   "metadata": {},
   "outputs": [
    {
     "name": "stdout",
     "output_type": "stream",
     "text": [
      "Largest number: 8\n"
     ]
    }
   ],
   "source": [
    "#list = [1, 10, 6, 8, 2]\n",
    "#print(max(list))\n",
    "\n",
    "numbers = [3, 5, 1, 8, 2]\n",
    "largest = numbers[0]  # Assume first element is largest\n",
    "\n",
    "for num in numbers:\n",
    "    if num > largest:\n",
    "        largest = num\n",
    "\n",
    "print(\"Largest number:\", largest)"
   ]
  },
  {
   "cell_type": "code",
   "execution_count": null,
   "id": "a9b9ec3a",
   "metadata": {},
   "outputs": [
    {
     "ename": "TypeError",
     "evalue": "'list' object is not callable",
     "output_type": "error",
     "traceback": [
      "\u001b[31m---------------------------------------------------------------------------\u001b[39m",
      "\u001b[31mTypeError\u001b[39m                                 Traceback (most recent call last)",
      "\u001b[36mCell\u001b[39m\u001b[36m \u001b[39m\u001b[32mIn[9]\u001b[39m\u001b[32m, line 2\u001b[39m\n\u001b[32m      1\u001b[39m numbers = [\u001b[32m1\u001b[39m, \u001b[32m20\u001b[39m, \u001b[32m23\u001b[39m, \u001b[32m20\u001b[39m, \u001b[32m1\u001b[39m, \u001b[32m7\u001b[39m]\n\u001b[32m----> \u001b[39m\u001b[32m2\u001b[39m unique = \u001b[38;5;28;43mlist\u001b[39;49m\u001b[43m(\u001b[49m\u001b[38;5;28;43mset\u001b[39;49m\u001b[43m(\u001b[49m\u001b[43mnumbers\u001b[49m\u001b[43m)\u001b[49m\u001b[43m)\u001b[49m\n\u001b[32m      4\u001b[39m \u001b[38;5;66;03m#for i in original:\u001b[39;00m\n\u001b[32m      5\u001b[39m \u001b[38;5;66;03m#    if i not in unique:\u001b[39;00m\n\u001b[32m      6\u001b[39m \u001b[38;5;66;03m#        unique.append(i)\u001b[39;00m\n\u001b[32m      7\u001b[39m \u001b[38;5;66;03m#\u001b[39;00m\n\u001b[32m      8\u001b[39m \u001b[38;5;28mprint\u001b[39m(unique)\n",
      "\u001b[31mTypeError\u001b[39m: 'list' object is not callable"
     ]
    }
   ],
   "source": [
    "numbers = [1, 20, 23, 20, 1, 7]\n",
    "unique = []\n",
    "#unique = list(set(numbers))\n",
    "\n",
    "#for i in original:\n",
    "#    if i not in unique:\n",
    "#        unique.append(i)\n",
    "#\n",
    "print(unique)"
   ]
  },
  {
   "cell_type": "code",
   "execution_count": 11,
   "id": "1efc2ee1",
   "metadata": {},
   "outputs": [
    {
     "name": "stdout",
     "output_type": "stream",
     "text": [
      "[10, 9, 8, 7, 6, 5, 4, 3, 2, 1]\n"
     ]
    }
   ],
   "source": [
    "num = [1, 2, 3, 4, 5, 6, 7, 8, 9, 10]\n",
    "reversed_list = []\n",
    "#print(num[::-1])\n",
    "\n",
    "for i in range(len(num)-1, -1, -1):\n",
    "    reversed_list.append(num[i])\n",
    "print(reversed_list)\n"
   ]
  },
  {
   "cell_type": "code",
   "execution_count": 12,
   "id": "eefc0280",
   "metadata": {},
   "outputs": [
    {
     "name": "stdout",
     "output_type": "stream",
     "text": [
      "empty\n"
     ]
    }
   ],
   "source": [
    "my_list = []\n",
    "print(\"empty\" if not my_list else \"not empty\")"
   ]
  },
  {
   "cell_type": "code",
   "execution_count": null,
   "id": "d5a13835",
   "metadata": {},
   "outputs": [
    {
     "ename": "TypeError",
     "evalue": "say_hello() missing 1 required positional argument: 'name'",
     "output_type": "error",
     "traceback": [
      "\u001b[31m---------------------------------------------------------------------------\u001b[39m",
      "\u001b[31mTypeError\u001b[39m                                 Traceback (most recent call last)",
      "\u001b[36mCell\u001b[39m\u001b[36m \u001b[39m\u001b[32mIn[6]\u001b[39m\u001b[32m, line 7\u001b[39m\n\u001b[32m      5\u001b[39m     \u001b[38;5;28;01melse\u001b[39;00m: \n\u001b[32m      6\u001b[39m       \u001b[38;5;28;01mreturn\u001b[39;00m(\u001b[33m\"\u001b[39m\u001b[33mHello there!\u001b[39m\u001b[33m\"\u001b[39m)\n\u001b[32m----> \u001b[39m\u001b[32m7\u001b[39m \u001b[43msay_hello\u001b[49m\u001b[43m(\u001b[49m\u001b[43m)\u001b[49m\n",
      "\u001b[31mTypeError\u001b[39m: say_hello() missing 1 required positional argument: 'name'"
     ]
    }
   ],
   "source": [
    "def say_hello(name):\n",
    "    name = input(\"What is your name? \")\n",
    "    if name == input(name):\n",
    "      return(\"Hello,\" + name + \"!\" )\n",
    "    else: \n",
    "      return(\"Hello there!\")\n",
    "say_hello(name)"
   ]
  },
  {
   "cell_type": "code",
   "execution_count": null,
   "id": "d050e6f5",
   "metadata": {},
   "outputs": [],
   "source": []
  }
 ],
 "metadata": {
  "kernelspec": {
   "display_name": "Python 3",
   "language": "python",
   "name": "python3"
  },
  "language_info": {
   "codemirror_mode": {
    "name": "ipython",
    "version": 3
   },
   "file_extension": ".py",
   "mimetype": "text/x-python",
   "name": "python",
   "nbconvert_exporter": "python",
   "pygments_lexer": "ipython3",
   "version": "3.13.3"
  }
 },
 "nbformat": 4,
 "nbformat_minor": 5
}
